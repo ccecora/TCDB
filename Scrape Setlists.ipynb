{
 "cells": [
  {
   "cell_type": "code",
   "execution_count": 2,
   "metadata": {},
   "outputs": [],
   "source": [
    "from bs4 import BeautifulSoup\n",
    "import requests\n",
    "import csv\n",
    "from itertools import zip_longest\n",
    "import regex as re\n",
    "\n",
    "def grouper(iterable, n, fillvalue=None):\n",
    "    args = [iter(iterable)] * n\n",
    "    return zip_longest(*args, fillvalue=fillvalue)"
   ]
  },
  {
   "cell_type": "code",
   "execution_count": 51,
   "metadata": {},
   "outputs": [
    {
     "name": "stdout",
     "output_type": "stream",
     "text": [
      "Collecting regex\n",
      "\u001b[?25l  Downloading https://files.pythonhosted.org/packages/fe/f2/20be658beb9ebef677550be562eae86c5433119b4b2fdb67035e9a841b0f/regex-2022.10.31-cp37-cp37m-manylinux_2_5_x86_64.manylinux1_x86_64.manylinux_2_12_x86_64.manylinux2010_x86_64.whl (676kB)\n",
      "\u001b[K     |████████████████████████████████| 686kB 4.9MB/s eta 0:00:01\n",
      "\u001b[?25hInstalling collected packages: regex\n",
      "Successfully installed regex-2022.10.31\n",
      "Note: you may need to restart the kernel to use updated packages.\n"
     ]
    }
   ],
   "source": [
    "pip install regex"
   ]
  },
  {
   "cell_type": "markdown",
   "metadata": {},
   "source": [
    "## Download Example Setlist from Serebii"
   ]
  },
  {
   "cell_type": "code",
   "execution_count": 8,
   "metadata": {},
   "outputs": [],
   "source": [
    "url = \"https://www.serebii.net/card/skyridge/\"\n",
    "\n",
    "response = requests.get(url)\n",
    "\n",
    "html = response.text\n",
    "\n",
    "soup = BeautifulSoup(html, \"html.parser\")\n",
    "\n",
    "raw_rows = soup.find_all(\"td\", class_=\"cen\")\n",
    "extracted_rows = []\n",
    "\n",
    "for num, pic, name in grouper(raw_rows, 3):\n",
    "    num = num.text.replace(\"Skyridge\", \"\").strip()\n",
    "    name = name.text.strip()\n",
    "    extracted_rows.append({\"set_num\": num, \"card_name\": name})\n",
    "    "
   ]
  },
  {
   "cell_type": "markdown",
   "metadata": {},
   "source": [
    "## Download Setlist from Price Charting"
   ]
  },
  {
   "cell_type": "code",
   "execution_count": 82,
   "metadata": {},
   "outputs": [],
   "source": [
    "def get_set_list(pokemon_set: str):\n",
    "    url = f\"https://www.pricecharting.com/console/pokemon-{pokemon_set}?sort=model-number\"\n",
    "\n",
    "    response = requests.get(url)\n",
    "\n",
    "    html = response.text\n",
    "\n",
    "    soup = BeautifulSoup(html, \"html.parser\")\n",
    "\n",
    "    raw_rows = soup.find_all(\"tr\", id=True)\n",
    "\n",
    "    set_list = []\n",
    "    \n",
    "    for row in raw_rows:\n",
    "        #print(row)\n",
    "        # Need to iterate now for all rows:\n",
    "        row_text = re.split(r\"#|\\$|\\+\", row.text.replace(\"\\n\", \"\"))\n",
    "\n",
    "        pokemon = row_text[0].strip()\n",
    "\n",
    "        # Check what type of card it is\n",
    "        if \"Booster\" in pokemon:\n",
    "            continue\n",
    "        elif \"Holo\" in pokemon:\n",
    "            pokemon, card_type = re.split(r\"\\s\\[\", pokemon)\n",
    "        else:\n",
    "            card_type = \"\"\n",
    "\n",
    "        # Get card link\n",
    "        print(row)\n",
    "        soup_row = BeautifulSoup(row.text, \"html.parser\")\n",
    "        print(soup_row.find_all(href=re.compile(\"https://www.pricecharting.com/game/pokemon-\\S*\")))    \n",
    "#         except:\n",
    "#             print(\"\\nerror row:\\n\")\n",
    "#             print(row)\n",
    "        \n",
    "        # Name some stuff nicely\n",
    "        number = row_text[1]\n",
    "        card_type = card_type.strip(\"]\")\n",
    "        ungraded_price = row_text[2]\n",
    "        psa_9_price = row_text[3]\n",
    "        psa_10_price = row_text[4]\n",
    "\n",
    "        \n",
    "        # Create a clean row of data\n",
    "        set_list.append(\n",
    "            {\n",
    "                \"pokemon\": pokemon,\n",
    "                \"card_type\": card_type,\n",
    "                \"card_set\": pokemon_set,\n",
    "                \"card_set_id\": number,\n",
    "                \"ungraded_price\": ungraded_price,\n",
    "                \"psa_9_price\": psa_9_price,\n",
    "                \"psa_10_price\": psa_10_price\n",
    "            }\n",
    "        )\n",
    "        break\n",
    "    return set_list"
   ]
  },
  {
   "cell_type": "code",
   "execution_count": 83,
   "metadata": {},
   "outputs": [
    {
     "name": "stdout",
     "output_type": "stream",
     "text": [
      "<tr data-product=\"842665\" id=\"product-842665\">\n",
      "<td class=\"image\">\n",
      "<div>\n",
      "<a href=\"https://www.pricecharting.com/game/pokemon-skyridge/aerodactyl-1\" title=\"842665\">\n",
      "<img class=\"photo\" loading=\"lazy\" src=\"https://commondatastorage.googleapis.com/images.pricecharting.com/6ffada14be0237ba26f35f26a595a49895868e2c56601780c6b91ff9c9515c66/60.jpg\"/>\n",
      "</a>\n",
      "</div>\n",
      "</td>\n",
      "<td class=\"title\" title=\"842665\">\n",
      "<a href=\"/game/pokemon-skyridge/aerodactyl-1\">Aerodactyl #1</a>\n",
      "</td>\n",
      "<td class=\"price numeric used_price\">\n",
      "<span class=\"js-price\">$16.57</span>\n",
      "</td>\n",
      "<td class=\"price numeric cib_price\">\n",
      "<span class=\"js-price\">$30.07</span>\n",
      "</td>\n",
      "<td class=\"price numeric new_price\">\n",
      "<span class=\"js-price\">$108.24</span>\n",
      "</td>\n",
      "<td class=\"add_to\">\n",
      "<ul class=\"add_to collection\">\n",
      "<li class=\"add_to collection\">\n",
      "<ul class=\"list\">\n",
      "<li class=\"list-item\">\n",
      "<a class=\"js-add-one-click\" data-product-id=\"842665\" href=\"#\" rel=\"nofollow\">\n",
      "<span class=\"small-desktop-visible\">+ Collection</span>\n",
      "                                        In One Click\n",
      "                                    </a>\n",
      "</li>\n",
      "<li class=\"list-item\">\n",
      "<a href=\"/publish-offer?product=842665&amp;add-to-collection=1\" rel=\"nofollow\">\n",
      "<span class=\"small-desktop-visible\">+ Collection</span>\n",
      "                                        With Details\n",
      "                                    </a>\n",
      "</li>\n",
      "<li class=\"list-item small-desktop-visible-cell\">\n",
      "<a class=\"js-add-bid\" href=\"#\" rel=\"nofollow\">+ Wishlist</a>\n",
      "</li>\n",
      "</ul>\n",
      "<span class=\"blue button small\">\n",
      "                                +<span class=\"small-desktop-hidden\"> Collection</span>\n",
      "</span>\n",
      "</li>\n",
      "</ul>\n",
      "<ul class=\"add_to wishlist\">\n",
      "<li class=\"add_to wishlist\">\n",
      "<span class=\"blue button small js-add-bid\">+<span class=\"small-desktop-hidden\"> Wishlist</span></span>\n",
      "</li>\n",
      "</ul>\n",
      "</td>\n",
      "</tr>\n",
      "[]\n"
     ]
    },
    {
     "data": {
      "text/plain": [
       "[{'pokemon': 'Aerodactyl',\n",
       "  'card_type': '',\n",
       "  'card_set': 'skyridge',\n",
       "  'card_set_id': '1',\n",
       "  'ungraded_price': '16.57',\n",
       "  'psa_9_price': '30.07',\n",
       "  'psa_10_price': '108.24'}]"
      ]
     },
     "execution_count": 83,
     "metadata": {},
     "output_type": "execute_result"
    }
   ],
   "source": [
    "get_set_list(\"skyridge\")\n"
   ]
  },
  {
   "cell_type": "code",
   "execution_count": 84,
   "metadata": {},
   "outputs": [],
   "source": [
    "def get_sales_per_card(card_url):\n",
    "    return"
   ]
  }
 ],
 "metadata": {
  "kernelspec": {
   "display_name": "Python 3",
   "language": "python",
   "name": "python3"
  },
  "language_info": {
   "codemirror_mode": {
    "name": "ipython",
    "version": 3
   },
   "file_extension": ".py",
   "mimetype": "text/x-python",
   "name": "python",
   "nbconvert_exporter": "python",
   "pygments_lexer": "ipython3",
   "version": "3.7.3"
  }
 },
 "nbformat": 4,
 "nbformat_minor": 2
}

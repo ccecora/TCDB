{
 "cells": [
  {
   "cell_type": "code",
   "execution_count": 1,
   "metadata": {},
   "outputs": [],
   "source": [
    "from bs4 import BeautifulSoup\n",
    "import requests\n",
    "import csv\n",
    "import time\n",
    "from itertools import zip_longest\n",
    "import regex as re\n",
    "from selenium import webdriver\n",
    "from selenium.webdriver.chrome.service import Service as ChromeService\n",
    "from webdriver_manager.chrome import ChromeDriverManager\n",
    "\n",
    "def grouper(iterable, n, fillvalue=None):\n",
    "    args = [iter(iterable)] * n\n",
    "    return zip_longest(*args, fillvalue=fillvalue)"
   ]
  },
  {
   "cell_type": "markdown",
   "metadata": {},
   "source": [
    "## Turns out, we can get all the metadata we need from `pokemontcgsdk`! (v3)"
   ]
  },
  {
   "cell_type": "code",
   "execution_count": 2,
   "metadata": {},
   "outputs": [],
   "source": [
    "from pokemontcgsdk import RestClient\n",
    "\n",
    "client = RestClient.configure('a5955ba8-b11c-4605-9a55-2ae306234411')"
   ]
  },
  {
   "cell_type": "code",
   "execution_count": 52,
   "metadata": {},
   "outputs": [
    {
     "data": {
      "text/plain": [
       "[Set(id='ex15', images=SetImage(symbol='https://images.pokemontcg.io/ex15/symbol.png', logo='https://images.pokemontcg.io/ex15/logo.png'), legalities=Legality(unlimited='Legal', expanded=None, standard=None), name='Dragon Frontiers', printedTotal=101, ptcgoCode='DF', releaseDate='2006/11/01', series='EX', total=101, updatedAt='2020/08/14 09:35:00'),\n",
       " Set(id='ex13', images=SetImage(symbol='https://images.pokemontcg.io/ex13/symbol.png', logo='https://images.pokemontcg.io/ex13/logo.png'), legalities=Legality(unlimited='Legal', expanded=None, standard=None), name='Holon Phantoms', printedTotal=110, ptcgoCode='HP', releaseDate='2006/05/01', series='EX', total=111, updatedAt='2018/03/04 10:35:00'),\n",
       " Set(id='ex11', images=SetImage(symbol='https://images.pokemontcg.io/ex11/symbol.png', logo='https://images.pokemontcg.io/ex11/logo.png'), legalities=Legality(unlimited='Legal', expanded=None, standard=None), name='Delta Species', printedTotal=113, ptcgoCode='DS', releaseDate='2005/10/31', series='EX', total=114, updatedAt='2020/05/01 16:06:00'),\n",
       " Set(id='ex12', images=SetImage(symbol='https://images.pokemontcg.io/ex12/symbol.png', logo='https://images.pokemontcg.io/ex12/logo.png'), legalities=Legality(unlimited='Legal', expanded=None, standard=None), name='Legend Maker', printedTotal=92, ptcgoCode='LM', releaseDate='2006/02/01', series='EX', total=93, updatedAt='2018/03/04 10:35:00'),\n",
       " Set(id='ex14', images=SetImage(symbol='https://images.pokemontcg.io/ex14/symbol.png', logo='https://images.pokemontcg.io/ex14/logo.png'), legalities=Legality(unlimited='Legal', expanded=None, standard=None), name='Crystal Guardians', printedTotal=100, ptcgoCode='CG', releaseDate='2006/08/01', series='EX', total=100, updatedAt='2018/03/04 10:35:00'),\n",
       " Set(id='ex16', images=SetImage(symbol='https://images.pokemontcg.io/ex16/symbol.png', logo='https://images.pokemontcg.io/ex16/logo.png'), legalities=Legality(unlimited='Legal', expanded=None, standard=None), name='Power Keepers', printedTotal=108, ptcgoCode='PK', releaseDate='2007/02/02', series='EX', total=108, updatedAt='2018/03/04 10:35:00')]"
      ]
     },
     "execution_count": 52,
     "metadata": {},
     "output_type": "execute_result"
    }
   ],
   "source": [
    "from pokemontcgsdk import Set\n",
    "\n",
    "filtered_sets = []\n",
    "for set_obj in Set.all():\n",
    "    ex_id_num = set_obj.id.replace(\"ex\", \"\")\n",
    "    \n",
    "    if ex_id_num.isnumeric() and int(ex_id_num) > 10:\n",
    "        filtered_sets.append(set_obj)\n",
    "\n",
    "filtered_sets"
   ]
  },
  {
   "cell_type": "markdown",
   "metadata": {},
   "source": [
    "## Download Setlist from Price Charting (v2)"
   ]
  },
  {
   "cell_type": "code",
   "execution_count": 3,
   "metadata": {},
   "outputs": [],
   "source": [
    "def get_set_list(pokemon_set: str):\n",
    "    url = f\"https://www.pricecharting.com/console/pokemon-{pokemon_set}?sort=model-number\"\n",
    "\n",
    "    # Get chrome webdriver setup\n",
    "    service = ChromeService(executable_path=ChromeDriverManager().install())\n",
    "    driver = webdriver.Chrome(service=service)\n",
    "    driver.get(url)\n",
    "    \n",
    "    # With no selenium (1st Implementation):\n",
    "    # response = requests.get(url)\n",
    "    # html = response.text\n",
    "\n",
    "    # Scroll to bottom to get all ressults\n",
    "    driver.execute_script(\"window.scrollTo(0, document.body.scrollHeight);\")\n",
    "    \n",
    "    time.sleep(0.5)\n",
    "    html = driver.page_source\n",
    "    soup = BeautifulSoup(html, \"html.parser\")\n",
    "\n",
    "    raw_rows = soup.find_all(\"tr\", id=True)\n",
    "\n",
    "    set_list = []\n",
    "    \n",
    "    for row in raw_rows:\n",
    "        #print(row)\n",
    "        # Need to iterate now for all rows:\n",
    "        row_text = re.split(r\"#|\\$|\\+\", row.text.replace(\"\\n\", \"\"))\n",
    "\n",
    "        pokemon = row_text[0].strip()\n",
    "\n",
    "        # Check what type of card it is\n",
    "        if \"Booster\" in pokemon:\n",
    "            continue\n",
    "        elif \"Holo\" in pokemon:\n",
    "            pokemon, card_type = re.split(r\"\\s\\[\", pokemon)\n",
    "        else:\n",
    "            card_type = \"\"\n",
    "\n",
    "        # Get card link\n",
    "        #print(row)\n",
    "        soup_row = BeautifulSoup(row.text, \"html.parser\")\n",
    "        #print(soup_row.find_all(href=re.compile(\"https://www.pricecharting.com/game/pokemon-\\S*\")))    \n",
    "#         except:\n",
    "#             print(\"\\nerror row:\\n\")\n",
    "#             print(row)\n",
    "        \n",
    "        # Name some stuff nicely\n",
    "        number = row_text[1]\n",
    "        card_type = card_type.strip(\"]\")\n",
    "        ungraded_price = row_text[2]\n",
    "        psa_9_price = row_text[3]\n",
    "        psa_10_price = row_text[4]\n",
    "\n",
    "        \n",
    "        # Create a clean row of data\n",
    "        set_list.append(\n",
    "            {\n",
    "                \"pokemon\": pokemon,\n",
    "                \"card_type\": card_type,\n",
    "                \"card_set\": pokemon_set,\n",
    "                \"card_set_id\": number,\n",
    "                \"ungraded_price\": ungraded_price,\n",
    "                \"psa_9_price\": psa_9_price,\n",
    "                \"psa_10_price\": psa_10_price\n",
    "            }\n",
    "        )\n",
    "    driver.close()\n",
    "    return set_list"
   ]
  },
  {
   "cell_type": "markdown",
   "metadata": {},
   "source": [
    "## Download Example Setlist from Serebii (v1)"
   ]
  },
  {
   "cell_type": "code",
   "execution_count": 2,
   "metadata": {},
   "outputs": [],
   "source": [
    "url = \"https://www.serebii.net/card/skyridge/\"\n",
    "\n",
    "response = requests.get(url)\n",
    "\n",
    "html = response.text\n",
    "\n",
    "soup = BeautifulSoup(html, \"html.parser\")\n",
    "\n",
    "raw_rows = soup.find_all(\"td\", class_=\"cen\")\n",
    "extracted_rows = []\n",
    "\n",
    "for num, pic, name in grouper(raw_rows, 3):\n",
    "    num = num.text.replace(\"Skyridge\", \"\").strip()\n",
    "    name = name.text.strip()\n",
    "    extracted_rows.append({\"set_num\": num, \"card_name\": name})\n",
    "    "
   ]
  },
  {
   "cell_type": "code",
   "execution_count": null,
   "metadata": {},
   "outputs": [],
   "source": []
  },
  {
   "cell_type": "code",
   "execution_count": 4,
   "metadata": {},
   "outputs": [
    {
     "data": {
      "text/plain": [
       "248"
      ]
     },
     "execution_count": 4,
     "metadata": {},
     "output_type": "execute_result"
    }
   ],
   "source": [
    "card_list = get_set_list(\"skyridge\")\n",
    "len(card_list)"
   ]
  },
  {
   "cell_type": "code",
   "execution_count": 5,
   "metadata": {},
   "outputs": [],
   "source": [
    "def get_sales_per_card(card_url):\n",
    "    return"
   ]
  }
 ],
 "metadata": {
  "kernelspec": {
   "display_name": "Python 3 (ipykernel)",
   "language": "python",
   "name": "python3"
  },
  "language_info": {
   "codemirror_mode": {
    "name": "ipython",
    "version": 3
   },
   "file_extension": ".py",
   "mimetype": "text/x-python",
   "name": "python",
   "nbconvert_exporter": "python",
   "pygments_lexer": "ipython3",
   "version": "3.12.1"
  }
 },
 "nbformat": 4,
 "nbformat_minor": 4
}

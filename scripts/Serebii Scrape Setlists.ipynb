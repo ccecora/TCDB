{
 "cells": [
  {
   "cell_type": "code",
   "execution_count": 1,
   "metadata": {},
   "outputs": [],
   "source": [
    "from bs4 import BeautifulSoup\n",
    "import requests\n",
    "import csv\n",
    "import time\n",
    "from itertools import zip_longest\n",
    "import regex as re\n",
    "from selenium import webdriver\n",
    "from selenium.webdriver.chrome.service import Service as ChromeService\n",
    "from webdriver_manager.chrome import ChromeDriverManager\n",
    "\n",
    "def grouper(iterable, n, fillvalue=None):\n",
    "    args = [iter(iterable)] * n\n",
    "    return zip_longest(*args, fillvalue=fillvalue)"
   ]
  },
  {
   "cell_type": "markdown",
   "metadata": {},
   "source": [
    "## Download Example Setlist from Serebii"
   ]
  },
  {
   "cell_type": "code",
   "execution_count": 2,
   "metadata": {},
   "outputs": [],
   "source": [
    "url = \"https://www.serebii.net/card/skyridge/\"\n",
    "\n",
    "response = requests.get(url)\n",
    "\n",
    "html = response.text\n",
    "\n",
    "soup = BeautifulSoup(html, \"html.parser\")\n",
    "\n",
    "raw_rows = soup.find_all(\"td\", class_=\"cen\")\n",
    "extracted_rows = []\n",
    "\n",
    "for num, pic, name in grouper(raw_rows, 3):\n",
    "    num = num.text.replace(\"Skyridge\", \"\").strip()\n",
    "    name = name.text.strip()\n",
    "    extracted_rows.append({\"set_num\": num, \"card_name\": name})\n",
    "    "
   ]
  },
  {
   "cell_type": "markdown",
   "metadata": {},
   "source": [
    "## Download Setlist from Price Charting"
   ]
  },
  {
   "cell_type": "code",
   "execution_count": 3,
   "metadata": {},
   "outputs": [],
   "source": [
    "def get_set_list(pokemon_set: str):\n",
    "    url = f\"https://www.pricecharting.com/console/pokemon-{pokemon_set}?sort=model-number\"\n",
    "\n",
    "    # Get chrome webdriver setup\n",
    "    service = ChromeService(executable_path=ChromeDriverManager().install())\n",
    "    driver = webdriver.Chrome(service=service)\n",
    "    driver.get(url)\n",
    "    \n",
    "    # With no selenium (1st Implementation):\n",
    "    # response = requests.get(url)\n",
    "    # html = response.text\n",
    "\n",
    "    # Scroll to bottom to get all ressults\n",
    "    driver.execute_script(\"window.scrollTo(0, document.body.scrollHeight);\")\n",
    "    \n",
    "    time.sleep(0.5)\n",
    "    html = driver.page_source\n",
    "    soup = BeautifulSoup(html, \"html.parser\")\n",
    "\n",
    "    raw_rows = soup.find_all(\"tr\", id=True)\n",
    "\n",
    "    set_list = []\n",
    "    \n",
    "    for row in raw_rows:\n",
    "        #print(row)\n",
    "        # Need to iterate now for all rows:\n",
    "        row_text = re.split(r\"#|\\$|\\+\", row.text.replace(\"\\n\", \"\"))\n",
    "\n",
    "        pokemon = row_text[0].strip()\n",
    "\n",
    "        # Check what type of card it is\n",
    "        if \"Booster\" in pokemon:\n",
    "            continue\n",
    "        elif \"Holo\" in pokemon:\n",
    "            pokemon, card_type = re.split(r\"\\s\\[\", pokemon)\n",
    "        else:\n",
    "            card_type = \"\"\n",
    "\n",
    "        # Get card link\n",
    "        #print(row)\n",
    "        soup_row = BeautifulSoup(row.text, \"html.parser\")\n",
    "        #print(soup_row.find_all(href=re.compile(\"https://www.pricecharting.com/game/pokemon-\\S*\")))    \n",
    "#         except:\n",
    "#             print(\"\\nerror row:\\n\")\n",
    "#             print(row)\n",
    "        \n",
    "        # Name some stuff nicely\n",
    "        number = row_text[1]\n",
    "        card_type = card_type.strip(\"]\")\n",
    "        ungraded_price = row_text[2]\n",
    "        psa_9_price = row_text[3]\n",
    "        psa_10_price = row_text[4]\n",
    "\n",
    "        \n",
    "        # Create a clean row of data\n",
    "        set_list.append(\n",
    "            {\n",
    "                \"pokemon\": pokemon,\n",
    "                \"card_type\": card_type,\n",
    "                \"card_set\": pokemon_set,\n",
    "                \"card_set_id\": number,\n",
    "                \"ungraded_price\": ungraded_price,\n",
    "                \"psa_9_price\": psa_9_price,\n",
    "                \"psa_10_price\": psa_10_price\n",
    "            }\n",
    "        )\n",
    "    driver.close()\n",
    "    return set_list"
   ]
  },
  {
   "cell_type": "code",
   "execution_count": null,
   "metadata": {},
   "outputs": [],
   "source": []
  },
  {
   "cell_type": "code",
   "execution_count": 4,
   "metadata": {},
   "outputs": [
    {
     "data": {
      "text/plain": [
       "248"
      ]
     },
     "execution_count": 4,
     "metadata": {},
     "output_type": "execute_result"
    }
   ],
   "source": [
    "card_list = get_set_list(\"skyridge\")\n",
    "len(card_list)"
   ]
  },
  {
   "cell_type": "code",
   "execution_count": 5,
   "metadata": {},
   "outputs": [],
   "source": [
    "def get_sales_per_card(card_url):\n",
    "    return"
   ]
  }
 ],
 "metadata": {
  "kernelspec": {
   "display_name": "Python 3 (ipykernel)",
   "language": "python",
   "name": "python3"
  },
  "language_info": {
   "codemirror_mode": {
    "name": "ipython",
    "version": 3
   },
   "file_extension": ".py",
   "mimetype": "text/x-python",
   "name": "python",
   "nbconvert_exporter": "python",
   "pygments_lexer": "ipython3",
   "version": "3.10.10"
  }
 },
 "nbformat": 4,
 "nbformat_minor": 2
}
